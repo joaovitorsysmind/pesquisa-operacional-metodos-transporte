{
  "nbformat": 4,
  "nbformat_minor": 0,
  "metadata": {
    "colab": {
      "provenance": [],
      "authorship_tag": "ABX9TyNh3upDWCccEdQpW0DpAlWH",
      "include_colab_link": true
    },
    "kernelspec": {
      "name": "python3",
      "display_name": "Python 3"
    },
    "language_info": {
      "name": "python"
    }
  },
  "cells": [
    {
      "cell_type": "markdown",
      "metadata": {
        "id": "view-in-github",
        "colab_type": "text"
      },
      "source": [
        "<a href=\"https://colab.research.google.com/github/joaovitorsysmind/pesquisa-operacional-metodos-transporte/blob/main/pesquisa_operacional_metodo_transportes.ipynb\" target=\"_parent\"><img src=\"https://colab.research.google.com/assets/colab-badge.svg\" alt=\"Open In Colab\"/></a>"
      ]
    },
    {
      "cell_type": "code",
      "execution_count": null,
      "metadata": {
        "colab": {
          "base_uri": "https://localhost:8080/"
        },
        "id": "aPslMlJNzZbl",
        "outputId": "6958480c-a6ac-4157-8bdf-92ab808d5526"
      },
      "outputs": [
        {
          "output_type": "stream",
          "name": "stdout",
          "text": [
            "Collecting pulp\n",
            "  Downloading PuLP-2.9.0-py3-none-any.whl.metadata (5.4 kB)\n",
            "Downloading PuLP-2.9.0-py3-none-any.whl (17.7 MB)\n",
            "\u001b[2K   \u001b[90m━━━━━━━━━━━━━━━━━━━━━━━━━━━━━━━━━━━━━━━━\u001b[0m \u001b[32m17.7/17.7 MB\u001b[0m \u001b[31m76.8 MB/s\u001b[0m eta \u001b[36m0:00:00\u001b[0m\n",
            "\u001b[?25hInstalling collected packages: pulp\n",
            "Successfully installed pulp-2.9.0\n"
          ]
        }
      ],
      "source": [
        "!pip install pulp"
      ]
    },
    {
      "cell_type": "code",
      "source": [
        "from pulp import *"
      ],
      "metadata": {
        "id": "xWXu66j_zsUF"
      },
      "execution_count": null,
      "outputs": []
    },
    {
      "cell_type": "code",
      "source": [
        "import pandas as pd\n"
      ],
      "metadata": {
        "id": "2RMKqNvanR3N"
      },
      "execution_count": null,
      "outputs": []
    },
    {
      "cell_type": "code",
      "source": [
        "import re"
      ],
      "metadata": {
        "id": "kqharel9rdPL"
      },
      "execution_count": 29,
      "outputs": []
    },
    {
      "cell_type": "code",
      "source": [
        "capacidades = [16000000, 9500000, 16500000]\n",
        "\n",
        "demandas = [993600, 714000, 343200, 782700, 1896600, 1194600, 1151400, 1345200, 2634600, 821400, 2973000, 508200, 4500, 14400, 472800, 371100, 11700, 743400, 519300, 8400, 12600, 498600, 6000, 848100, 6900,\n",
        "1423200, 761400, 1548300, 438600, 594000, 979500, 17700, 9600, 637800, 988800, 660300, 1256700, 951900, 21600, 1484100, 1168800, 1414500, 1524900, 1039500, 856800, 25200, 1461600, 1184400,\n",
        "18900, 1544400, 21300,]\n",
        "\n",
        "custos = [\n",
        "    [0.0, 0.0, 0.0, 0.32, 0.43, 0.28, 0.0, 0.29, 0.42, 0.43,\n",
        "     0.3, 0.55, 0.0, 0.0, 0.57, 0.53, 0.0, 0.66, 0.39, 0.0,\n",
        "     0.0, 0.34, 0.0, 0.15, 0.0, 0.48, 0.19, 0.5, 0.01, 0.0,\n",
        "     0.44, 0.0, 0.0, 0.49, 0.46, 0.0, 0.0, 0.0, 0.0, 0.64,\n",
        "     0.6, 0.68, 0.71, 0.47, 0.38, 0.0, 0.2, 0.26, 0.0, 0.3,\n",
        "     0.01, 0.0, 0.0, 0.0, 0.0],\n",
        "\n",
        "    [0.0, 0.0, 0.0, 0.0, 0.17, 0.0, 0.0, 0.2, 0.19, 0.31,\n",
        "     0.21, 0.0, 0.0, 0.0, 0.0, 0.0, 0.0, 0.0, 0.0, 0.0,\n",
        "     0.0, 0.0, 0.0, 0.0, 0.0, 0.25, 0.0, 0.26, 0.17, 0.17,\n",
        "     0.26, 0.0, 0.0, 0.2, 0.2, 0.44, 0.34, 0.36, 0.0, 0.35,\n",
        "     0.47, 0.41, 0.45, 0.0, 0.0, 0.0, 0.41, 0.53, 0.0, 0.49,\n",
        "     0.0],\n",
        "\n",
        "    [0.24, 0.19, 0.11, 0.37, 0.41, 0.31, 0.26, 0.3, 0.44, 0.19,\n",
        "     0.52, 0.0, 0.0, 0.0, 0.0, 0.0, 0.0, 0.0, 0.16, 0.0,\n",
        "     0.0, 0.23, 0.0, 0.0, 0.0, 0.26, 0.0, 0.27, 0.0, 0.0,\n",
        "     0.22, 0.0, 0.0, 0.25, 0.27, 0.53, 0.56, 0.45, 0.0, 0.0,\n",
        "     0.0, 0.0, 0.33, 0.37, 0.0, 0.67, 0.54, 0.0, 0.67, 0.0,\n",
        "     0.0, 0.0, 0.0]\n",
        "]\n"
      ],
      "metadata": {
        "id": "zY2ugfFG4uQF"
      },
      "execution_count": null,
      "outputs": []
    },
    {
      "cell_type": "code",
      "source": [
        "num_fabricas = len(capacidades)\n",
        "num_clientes = len(demandas)"
      ],
      "metadata": {
        "id": "p4vIYQY9BDZ4"
      },
      "execution_count": null,
      "outputs": []
    },
    {
      "cell_type": "code",
      "source": [
        "transp = LpProblem('MinTransporte', LpMinimize)"
      ],
      "metadata": {
        "id": "6H9b2XZmBJjw"
      },
      "execution_count": null,
      "outputs": []
    },
    {
      "cell_type": "code",
      "source": [
        "x = { (i, j): LpVariable(f'x{i}_{j}', lowBound=0, cat=LpInteger) for i in range(1, num_fabricas + 1) for j in range(1, num_clientes + 1) if not (x[(i, j)]) is None  }"
      ],
      "metadata": {
        "id": "E8a74StyByhH"
      },
      "execution_count": null,
      "outputs": []
    },
    {
      "cell_type": "code",
      "source": [
        "transp += lpSum(custos[i-1][j-1] * x[i, j] for i in range(1, num_fabricas + 1) for j in range(1, num_clientes + 1))"
      ],
      "metadata": {
        "id": "xvveJpytCq2L"
      },
      "execution_count": null,
      "outputs": []
    },
    {
      "cell_type": "code",
      "source": [
        "for i in range(1, num_fabricas + 1):\n",
        "  transp += lpSum(x[i, j] for j in range(1, num_clientes + 1)) <= capacidades[i-1]\n",
        "\n",
        "for j in range(1, num_clientes + 1):\n",
        "  transp += lpSum(x[i, j] for i in range(1, num_fabricas + 1)) == demandas[j-1]"
      ],
      "metadata": {
        "id": "At7D9qyUC8WG"
      },
      "execution_count": null,
      "outputs": []
    },
    {
      "cell_type": "code",
      "source": [
        "transp"
      ],
      "metadata": {
        "colab": {
          "base_uri": "https://localhost:8080/"
        },
        "id": "qmTA5XUVG2Mk",
        "outputId": "8529cb6b-d851-4027-c9aa-ddf01d810962",
        "collapsed": true
      },
      "execution_count": null,
      "outputs": [
        {
          "output_type": "execute_result",
          "data": {
            "text/plain": [
              "MinTransporte:\n",
              "MINIMIZE\n",
              "0.43*x1_10 + 0.3*x1_11 + 0.55*x1_12 + 0.57*x1_15 + 0.53*x1_16 + 0.66*x1_18 + 0.39*x1_19 + 0.34*x1_22 + 0.15*x1_24 + 0.48*x1_26 + 0.19*x1_27 + 0.5*x1_28 + 0.01*x1_29 + 0.44*x1_31 + 0.49*x1_34 + 0.46*x1_35 + 0.32*x1_4 + 0.64*x1_40 + 0.6*x1_41 + 0.68*x1_42 + 0.71*x1_43 + 0.47*x1_44 + 0.38*x1_45 + 0.2*x1_47 + 0.26*x1_48 + 0.43*x1_5 + 0.3*x1_50 + 0.01*x1_51 + 0.28*x1_6 + 0.29*x1_8 + 0.42*x1_9 + 0.31*x2_10 + 0.21*x2_11 + 0.25*x2_26 + 0.26*x2_28 + 0.17*x2_29 + 0.17*x2_30 + 0.26*x2_31 + 0.2*x2_34 + 0.2*x2_35 + 0.44*x2_36 + 0.34*x2_37 + 0.36*x2_38 + 0.35*x2_40 + 0.47*x2_41 + 0.41*x2_42 + 0.45*x2_43 + 0.41*x2_47 + 0.53*x2_48 + 0.17*x2_5 + 0.49*x2_50 + 0.2*x2_8 + 0.19*x2_9 + 0.24*x3_1 + 0.19*x3_10 + 0.52*x3_11 + 0.16*x3_19 + 0.19*x3_2 + 0.23*x3_22 + 0.26*x3_26 + 0.27*x3_28 + 0.11*x3_3 + 0.22*x3_31 + 0.25*x3_34 + 0.27*x3_35 + 0.53*x3_36 + 0.56*x3_37 + 0.45*x3_38 + 0.37*x3_4 + 0.33*x3_43 + 0.37*x3_44 + 0.67*x3_46 + 0.54*x3_47 + 0.67*x3_49 + 0.41*x3_5 + 0.31*x3_6 + 0.26*x3_7 + 0.3*x3_8 + 0.44*x3_9 + 0.0\n",
              "SUBJECT TO\n",
              "_C1: x1_1 + x1_10 + x1_11 + x1_12 + x1_13 + x1_14 + x1_15 + x1_16 + x1_17\n",
              " + x1_18 + x1_19 + x1_2 + x1_20 + x1_21 + x1_22 + x1_23 + x1_24 + x1_25\n",
              " + x1_26 + x1_27 + x1_28 + x1_29 + x1_3 + x1_30 + x1_31 + x1_32 + x1_33\n",
              " + x1_34 + x1_35 + x1_36 + x1_37 + x1_38 + x1_39 + x1_4 + x1_40 + x1_41\n",
              " + x1_42 + x1_43 + x1_44 + x1_45 + x1_46 + x1_47 + x1_48 + x1_49 + x1_5\n",
              " + x1_50 + x1_51 + x1_6 + x1_7 + x1_8 + x1_9 <= 16000000\n",
              "\n",
              "_C2: x2_1 + x2_10 + x2_11 + x2_12 + x2_13 + x2_14 + x2_15 + x2_16 + x2_17\n",
              " + x2_18 + x2_19 + x2_2 + x2_20 + x2_21 + x2_22 + x2_23 + x2_24 + x2_25\n",
              " + x2_26 + x2_27 + x2_28 + x2_29 + x2_3 + x2_30 + x2_31 + x2_32 + x2_33\n",
              " + x2_34 + x2_35 + x2_36 + x2_37 + x2_38 + x2_39 + x2_4 + x2_40 + x2_41\n",
              " + x2_42 + x2_43 + x2_44 + x2_45 + x2_46 + x2_47 + x2_48 + x2_49 + x2_5\n",
              " + x2_50 + x2_51 + x2_6 + x2_7 + x2_8 + x2_9 <= 9500000\n",
              "\n",
              "_C3: x3_1 + x3_10 + x3_11 + x3_12 + x3_13 + x3_14 + x3_15 + x3_16 + x3_17\n",
              " + x3_18 + x3_19 + x3_2 + x3_20 + x3_21 + x3_22 + x3_23 + x3_24 + x3_25\n",
              " + x3_26 + x3_27 + x3_28 + x3_29 + x3_3 + x3_30 + x3_31 + x3_32 + x3_33\n",
              " + x3_34 + x3_35 + x3_36 + x3_37 + x3_38 + x3_39 + x3_4 + x3_40 + x3_41\n",
              " + x3_42 + x3_43 + x3_44 + x3_45 + x3_46 + x3_47 + x3_48 + x3_49 + x3_5\n",
              " + x3_50 + x3_51 + x3_6 + x3_7 + x3_8 + x3_9 <= 16500000\n",
              "\n",
              "_C4: x1_1 + x2_1 + x3_1 = 993600\n",
              "\n",
              "_C5: x1_2 + x2_2 + x3_2 = 714000\n",
              "\n",
              "_C6: x1_3 + x2_3 + x3_3 = 343200\n",
              "\n",
              "_C7: x1_4 + x2_4 + x3_4 = 782700\n",
              "\n",
              "_C8: x1_5 + x2_5 + x3_5 = 1896600\n",
              "\n",
              "_C9: x1_6 + x2_6 + x3_6 = 1194600\n",
              "\n",
              "_C10: x1_7 + x2_7 + x3_7 = 1151400\n",
              "\n",
              "_C11: x1_8 + x2_8 + x3_8 = 1345200\n",
              "\n",
              "_C12: x1_9 + x2_9 + x3_9 = 2634600\n",
              "\n",
              "_C13: x1_10 + x2_10 + x3_10 = 821400\n",
              "\n",
              "_C14: x1_11 + x2_11 + x3_11 = 2973000\n",
              "\n",
              "_C15: x1_12 + x2_12 + x3_12 = 508200\n",
              "\n",
              "_C16: x1_13 + x2_13 + x3_13 = 4500\n",
              "\n",
              "_C17: x1_14 + x2_14 + x3_14 = 14400\n",
              "\n",
              "_C18: x1_15 + x2_15 + x3_15 = 472800\n",
              "\n",
              "_C19: x1_16 + x2_16 + x3_16 = 371100\n",
              "\n",
              "_C20: x1_17 + x2_17 + x3_17 = 11700\n",
              "\n",
              "_C21: x1_18 + x2_18 + x3_18 = 743400\n",
              "\n",
              "_C22: x1_19 + x2_19 + x3_19 = 519300\n",
              "\n",
              "_C23: x1_20 + x2_20 + x3_20 = 8400\n",
              "\n",
              "_C24: x1_21 + x2_21 + x3_21 = 12600\n",
              "\n",
              "_C25: x1_22 + x2_22 + x3_22 = 498600\n",
              "\n",
              "_C26: x1_23 + x2_23 + x3_23 = 6000\n",
              "\n",
              "_C27: x1_24 + x2_24 + x3_24 = 848100\n",
              "\n",
              "_C28: x1_25 + x2_25 + x3_25 = 6900\n",
              "\n",
              "_C29: x1_26 + x2_26 + x3_26 = 1423200\n",
              "\n",
              "_C30: x1_27 + x2_27 + x3_27 = 761400\n",
              "\n",
              "_C31: x1_28 + x2_28 + x3_28 = 1548300\n",
              "\n",
              "_C32: x1_29 + x2_29 + x3_29 = 438600\n",
              "\n",
              "_C33: x1_30 + x2_30 + x3_30 = 594000\n",
              "\n",
              "_C34: x1_31 + x2_31 + x3_31 = 979500\n",
              "\n",
              "_C35: x1_32 + x2_32 + x3_32 = 17700\n",
              "\n",
              "_C36: x1_33 + x2_33 + x3_33 = 9600\n",
              "\n",
              "_C37: x1_34 + x2_34 + x3_34 = 637800\n",
              "\n",
              "_C38: x1_35 + x2_35 + x3_35 = 988800\n",
              "\n",
              "_C39: x1_36 + x2_36 + x3_36 = 660300\n",
              "\n",
              "_C40: x1_37 + x2_37 + x3_37 = 1256700\n",
              "\n",
              "_C41: x1_38 + x2_38 + x3_38 = 951900\n",
              "\n",
              "_C42: x1_39 + x2_39 + x3_39 = 21600\n",
              "\n",
              "_C43: x1_40 + x2_40 + x3_40 = 1484100\n",
              "\n",
              "_C44: x1_41 + x2_41 + x3_41 = 1168800\n",
              "\n",
              "_C45: x1_42 + x2_42 + x3_42 = 1414500\n",
              "\n",
              "_C46: x1_43 + x2_43 + x3_43 = 1524900\n",
              "\n",
              "_C47: x1_44 + x2_44 + x3_44 = 1039500\n",
              "\n",
              "_C48: x1_45 + x2_45 + x3_45 = 856800\n",
              "\n",
              "_C49: x1_46 + x2_46 + x3_46 = 25200\n",
              "\n",
              "_C50: x1_47 + x2_47 + x3_47 = 1461600\n",
              "\n",
              "_C51: x1_48 + x2_48 + x3_48 = 1184400\n",
              "\n",
              "_C52: x1_49 + x2_49 + x3_49 = 18900\n",
              "\n",
              "_C53: x1_50 + x2_50 + x3_50 = 1544400\n",
              "\n",
              "_C54: x1_51 + x2_51 + x3_51 = 21300\n",
              "\n",
              "VARIABLES\n",
              "0 <= x1_1 Integer\n",
              "0 <= x1_10 Integer\n",
              "0 <= x1_11 Integer\n",
              "0 <= x1_12 Integer\n",
              "0 <= x1_13 Integer\n",
              "0 <= x1_14 Integer\n",
              "0 <= x1_15 Integer\n",
              "0 <= x1_16 Integer\n",
              "0 <= x1_17 Integer\n",
              "0 <= x1_18 Integer\n",
              "0 <= x1_19 Integer\n",
              "0 <= x1_2 Integer\n",
              "0 <= x1_20 Integer\n",
              "0 <= x1_21 Integer\n",
              "0 <= x1_22 Integer\n",
              "0 <= x1_23 Integer\n",
              "0 <= x1_24 Integer\n",
              "0 <= x1_25 Integer\n",
              "0 <= x1_26 Integer\n",
              "0 <= x1_27 Integer\n",
              "0 <= x1_28 Integer\n",
              "0 <= x1_29 Integer\n",
              "0 <= x1_3 Integer\n",
              "0 <= x1_30 Integer\n",
              "0 <= x1_31 Integer\n",
              "0 <= x1_32 Integer\n",
              "0 <= x1_33 Integer\n",
              "0 <= x1_34 Integer\n",
              "0 <= x1_35 Integer\n",
              "0 <= x1_36 Integer\n",
              "0 <= x1_37 Integer\n",
              "0 <= x1_38 Integer\n",
              "0 <= x1_39 Integer\n",
              "0 <= x1_4 Integer\n",
              "0 <= x1_40 Integer\n",
              "0 <= x1_41 Integer\n",
              "0 <= x1_42 Integer\n",
              "0 <= x1_43 Integer\n",
              "0 <= x1_44 Integer\n",
              "0 <= x1_45 Integer\n",
              "0 <= x1_46 Integer\n",
              "0 <= x1_47 Integer\n",
              "0 <= x1_48 Integer\n",
              "0 <= x1_49 Integer\n",
              "0 <= x1_5 Integer\n",
              "0 <= x1_50 Integer\n",
              "0 <= x1_51 Integer\n",
              "0 <= x1_6 Integer\n",
              "0 <= x1_7 Integer\n",
              "0 <= x1_8 Integer\n",
              "0 <= x1_9 Integer\n",
              "0 <= x2_1 Integer\n",
              "0 <= x2_10 Integer\n",
              "0 <= x2_11 Integer\n",
              "0 <= x2_12 Integer\n",
              "0 <= x2_13 Integer\n",
              "0 <= x2_14 Integer\n",
              "0 <= x2_15 Integer\n",
              "0 <= x2_16 Integer\n",
              "0 <= x2_17 Integer\n",
              "0 <= x2_18 Integer\n",
              "0 <= x2_19 Integer\n",
              "0 <= x2_2 Integer\n",
              "0 <= x2_20 Integer\n",
              "0 <= x2_21 Integer\n",
              "0 <= x2_22 Integer\n",
              "0 <= x2_23 Integer\n",
              "0 <= x2_24 Integer\n",
              "0 <= x2_25 Integer\n",
              "0 <= x2_26 Integer\n",
              "0 <= x2_27 Integer\n",
              "0 <= x2_28 Integer\n",
              "0 <= x2_29 Integer\n",
              "0 <= x2_3 Integer\n",
              "0 <= x2_30 Integer\n",
              "0 <= x2_31 Integer\n",
              "0 <= x2_32 Integer\n",
              "0 <= x2_33 Integer\n",
              "0 <= x2_34 Integer\n",
              "0 <= x2_35 Integer\n",
              "0 <= x2_36 Integer\n",
              "0 <= x2_37 Integer\n",
              "0 <= x2_38 Integer\n",
              "0 <= x2_39 Integer\n",
              "0 <= x2_4 Integer\n",
              "0 <= x2_40 Integer\n",
              "0 <= x2_41 Integer\n",
              "0 <= x2_42 Integer\n",
              "0 <= x2_43 Integer\n",
              "0 <= x2_44 Integer\n",
              "0 <= x2_45 Integer\n",
              "0 <= x2_46 Integer\n",
              "0 <= x2_47 Integer\n",
              "0 <= x2_48 Integer\n",
              "0 <= x2_49 Integer\n",
              "0 <= x2_5 Integer\n",
              "0 <= x2_50 Integer\n",
              "0 <= x2_51 Integer\n",
              "0 <= x2_6 Integer\n",
              "0 <= x2_7 Integer\n",
              "0 <= x2_8 Integer\n",
              "0 <= x2_9 Integer\n",
              "0 <= x3_1 Integer\n",
              "0 <= x3_10 Integer\n",
              "0 <= x3_11 Integer\n",
              "0 <= x3_12 Integer\n",
              "0 <= x3_13 Integer\n",
              "0 <= x3_14 Integer\n",
              "0 <= x3_15 Integer\n",
              "0 <= x3_16 Integer\n",
              "0 <= x3_17 Integer\n",
              "0 <= x3_18 Integer\n",
              "0 <= x3_19 Integer\n",
              "0 <= x3_2 Integer\n",
              "0 <= x3_20 Integer\n",
              "0 <= x3_21 Integer\n",
              "0 <= x3_22 Integer\n",
              "0 <= x3_23 Integer\n",
              "0 <= x3_24 Integer\n",
              "0 <= x3_25 Integer\n",
              "0 <= x3_26 Integer\n",
              "0 <= x3_27 Integer\n",
              "0 <= x3_28 Integer\n",
              "0 <= x3_29 Integer\n",
              "0 <= x3_3 Integer\n",
              "0 <= x3_30 Integer\n",
              "0 <= x3_31 Integer\n",
              "0 <= x3_32 Integer\n",
              "0 <= x3_33 Integer\n",
              "0 <= x3_34 Integer\n",
              "0 <= x3_35 Integer\n",
              "0 <= x3_36 Integer\n",
              "0 <= x3_37 Integer\n",
              "0 <= x3_38 Integer\n",
              "0 <= x3_39 Integer\n",
              "0 <= x3_4 Integer\n",
              "0 <= x3_40 Integer\n",
              "0 <= x3_41 Integer\n",
              "0 <= x3_42 Integer\n",
              "0 <= x3_43 Integer\n",
              "0 <= x3_44 Integer\n",
              "0 <= x3_45 Integer\n",
              "0 <= x3_46 Integer\n",
              "0 <= x3_47 Integer\n",
              "0 <= x3_48 Integer\n",
              "0 <= x3_49 Integer\n",
              "0 <= x3_5 Integer\n",
              "0 <= x3_50 Integer\n",
              "0 <= x3_51 Integer\n",
              "0 <= x3_6 Integer\n",
              "0 <= x3_7 Integer\n",
              "0 <= x3_8 Integer\n",
              "0 <= x3_9 Integer"
            ]
          },
          "metadata": {},
          "execution_count": 16
        }
      ]
    },
    {
      "cell_type": "code",
      "source": [
        "transp.solve()"
      ],
      "metadata": {
        "colab": {
          "base_uri": "https://localhost:8080/"
        },
        "id": "5g9T-uRGG4Nt",
        "outputId": "eb271080-2c3c-47f7-9772-b63c025609ff"
      },
      "execution_count": null,
      "outputs": [
        {
          "output_type": "execute_result",
          "data": {
            "text/plain": [
              "1"
            ]
          },
          "metadata": {},
          "execution_count": 17
        }
      ]
    },
    {
      "cell_type": "code",
      "source": [
        "print(\"Quantidade a ser produzida:\", LpStatus[transp.status])\n",
        "for v in transp.variables():\n",
        "  print(f\"{v.name} = {v.varValue}\")"
      ],
      "metadata": {
        "colab": {
          "base_uri": "https://localhost:8080/"
        },
        "id": "jeSmO9YrG9Og",
        "outputId": "6fcdc1f5-3e65-4a4f-acc6-0424f466a7bd"
      },
      "execution_count": null,
      "outputs": [
        {
          "output_type": "stream",
          "name": "stdout",
          "text": [
            "Quantidade a ser produzida: Optimal\n",
            "x1_1 = 993600.0\n",
            "x1_10 = 0.0\n",
            "x1_11 = 2973000.0\n",
            "x1_12 = 0.0\n",
            "x1_13 = 4500.0\n",
            "x1_14 = 14400.0\n",
            "x1_15 = 0.0\n",
            "x1_16 = 0.0\n",
            "x1_17 = 11700.0\n",
            "x1_18 = 0.0\n",
            "x1_19 = 0.0\n",
            "x1_2 = 714000.0\n",
            "x1_20 = 8400.0\n",
            "x1_21 = 12600.0\n",
            "x1_22 = 0.0\n",
            "x1_23 = 6000.0\n",
            "x1_24 = 848100.0\n",
            "x1_25 = 6900.0\n",
            "x1_26 = 0.0\n",
            "x1_27 = 307200.0\n",
            "x1_28 = 0.0\n",
            "x1_29 = 438600.0\n",
            "x1_3 = 343200.0\n",
            "x1_30 = 594000.0\n",
            "x1_31 = 0.0\n",
            "x1_32 = 17700.0\n",
            "x1_33 = 9600.0\n",
            "x1_34 = 0.0\n",
            "x1_35 = 0.0\n",
            "x1_36 = 660300.0\n",
            "x1_37 = 1256700.0\n",
            "x1_38 = 951900.0\n",
            "x1_39 = 21600.0\n",
            "x1_4 = 0.0\n",
            "x1_40 = 0.0\n",
            "x1_41 = 0.0\n",
            "x1_42 = 0.0\n",
            "x1_43 = 0.0\n",
            "x1_44 = 0.0\n",
            "x1_45 = 0.0\n",
            "x1_46 = 25200.0\n",
            "x1_47 = 1461600.0\n",
            "x1_48 = 0.0\n",
            "x1_49 = 18900.0\n",
            "x1_5 = 0.0\n",
            "x1_50 = 0.0\n",
            "x1_51 = 21300.0\n",
            "x1_6 = 0.0\n",
            "x1_7 = 1151400.0\n",
            "x1_8 = 1345200.0\n",
            "x1_9 = 692500.0\n",
            "x2_1 = 0.0\n",
            "x2_10 = 0.0\n",
            "x2_11 = 0.0\n",
            "x2_12 = 0.0\n",
            "x2_13 = 0.0\n",
            "x2_14 = 0.0\n",
            "x2_15 = 0.0\n",
            "x2_16 = 0.0\n",
            "x2_17 = 0.0\n",
            "x2_18 = 0.0\n",
            "x2_19 = 519300.0\n",
            "x2_2 = 0.0\n",
            "x2_20 = 0.0\n",
            "x2_21 = 0.0\n",
            "x2_22 = 498600.0\n",
            "x2_23 = 0.0\n",
            "x2_24 = 0.0\n",
            "x2_25 = 0.0\n",
            "x2_26 = 0.0\n",
            "x2_27 = 0.0\n",
            "x2_28 = 0.0\n",
            "x2_29 = 0.0\n",
            "x2_3 = 0.0\n",
            "x2_30 = 0.0\n",
            "x2_31 = 0.0\n",
            "x2_32 = 0.0\n",
            "x2_33 = 0.0\n",
            "x2_34 = 637800.0\n",
            "x2_35 = 988800.0\n",
            "x2_36 = 0.0\n",
            "x2_37 = 0.0\n",
            "x2_38 = 0.0\n",
            "x2_39 = 0.0\n",
            "x2_4 = 782700.0\n",
            "x2_40 = 0.0\n",
            "x2_41 = 0.0\n",
            "x2_42 = 0.0\n",
            "x2_43 = 0.0\n",
            "x2_44 = 1039500.0\n",
            "x2_45 = 0.0\n",
            "x2_46 = 0.0\n",
            "x2_47 = 0.0\n",
            "x2_48 = 0.0\n",
            "x2_49 = 0.0\n",
            "x2_5 = 1896600.0\n",
            "x2_50 = 0.0\n",
            "x2_51 = 0.0\n",
            "x2_6 = 1194600.0\n",
            "x2_7 = 0.0\n",
            "x2_8 = 0.0\n",
            "x2_9 = 1942100.0\n",
            "x3_1 = 0.0\n",
            "x3_10 = 821400.0\n",
            "x3_11 = 0.0\n",
            "x3_12 = 508200.0\n",
            "x3_13 = 0.0\n",
            "x3_14 = 0.0\n",
            "x3_15 = 472800.0\n",
            "x3_16 = 371100.0\n",
            "x3_17 = 0.0\n",
            "x3_18 = 743400.0\n",
            "x3_19 = 0.0\n",
            "x3_2 = 0.0\n",
            "x3_20 = 0.0\n",
            "x3_21 = 0.0\n",
            "x3_22 = 0.0\n",
            "x3_23 = 0.0\n",
            "x3_24 = 0.0\n",
            "x3_25 = 0.0\n",
            "x3_26 = 1423200.0\n",
            "x3_27 = 454200.0\n",
            "x3_28 = 1548300.0\n",
            "x3_29 = 0.0\n",
            "x3_3 = 0.0\n",
            "x3_30 = 0.0\n",
            "x3_31 = 979500.0\n",
            "x3_32 = 0.0\n",
            "x3_33 = 0.0\n",
            "x3_34 = 0.0\n",
            "x3_35 = 0.0\n",
            "x3_36 = 0.0\n",
            "x3_37 = 0.0\n",
            "x3_38 = 0.0\n",
            "x3_39 = 0.0\n",
            "x3_4 = 0.0\n",
            "x3_40 = 1484100.0\n",
            "x3_41 = 1168800.0\n",
            "x3_42 = 1414500.0\n",
            "x3_43 = 1524900.0\n",
            "x3_44 = 0.0\n",
            "x3_45 = 856800.0\n",
            "x3_46 = 0.0\n",
            "x3_47 = 0.0\n",
            "x3_48 = 1184400.0\n",
            "x3_49 = 0.0\n",
            "x3_5 = 0.0\n",
            "x3_50 = 1544400.0\n",
            "x3_51 = 0.0\n",
            "x3_6 = 0.0\n",
            "x3_7 = 0.0\n",
            "x3_8 = 0.0\n",
            "x3_9 = 0.0\n"
          ]
        }
      ]
    },
    {
      "cell_type": "code",
      "source": [
        "data = \"\"\" x1_1 = 993600.0\n",
        "x1_10 = 0.0\n",
        "x1_11 = 2973000.0\n",
        "x1_12 = 0.0\n",
        "x1_13 = 4500.0\n",
        "x1_14 = 14400.0\n",
        "x1_15 = 0.0\n",
        "x1_16 = 0.0\n",
        "x1_17 = 11700.0\n",
        "x1_18 = 0.0\n",
        "x1_19 = 0.0\n",
        "x1_2 = 714000.0\n",
        "x1_20 = 8400.0\n",
        "x1_21 = 12600.0\n",
        "x1_22 = 0.0\n",
        "x1_23 = 6000.0\n",
        "x1_24 = 848100.0\n",
        "x1_25 = 6900.0\n",
        "x1_26 = 0.0\n",
        "x1_27 = 307200.0\n",
        "x1_28 = 0.0\n",
        "x1_29 = 438600.0\n",
        "x1_3 = 343200.0\n",
        "x1_30 = 594000.0\n",
        "x1_31 = 0.0\n",
        "x1_32 = 17700.0\n",
        "x1_33 = 9600.0\n",
        "x1_34 = 0.0\n",
        "x1_35 = 0.0\n",
        "x1_36 = 660300.0\n",
        "x1_37 = 1256700.0\n",
        "x1_38 = 951900.0\n",
        "x1_39 = 21600.0\n",
        "x1_4 = 0.0\n",
        "x1_40 = 0.0\n",
        "x1_41 = 0.0\n",
        "x1_42 = 0.0\n",
        "x1_43 = 0.0\n",
        "x1_44 = 0.0\n",
        "x1_45 = 0.0\n",
        "x1_46 = 25200.0\n",
        "x1_47 = 1461600.0\n",
        "x1_48 = 0.0\n",
        "x1_49 = 18900.0\n",
        "x1_5 = 0.0\n",
        "x1_50 = 0.0\n",
        "x1_51 = 21300.0\n",
        "x1_6 = 0.0\n",
        "x1_7 = 1151400.0\n",
        "x1_8 = 1345200.0\n",
        "x1_9 = 692500.0\n",
        "x2_1 = 0.0\n",
        "x2_10 = 0.0\n",
        "x2_11 = 0.0\n",
        "x2_12 = 0.0\n",
        "x2_13 = 0.0\n",
        "x2_14 = 0.0\n",
        "x2_15 = 0.0\n",
        "x2_16 = 0.0\n",
        "x2_17 = 0.0\n",
        "x2_18 = 0.0\n",
        "x2_19 = 519300.0\n",
        "x2_2 = 0.0\n",
        "x2_20 = 0.0\n",
        "x2_21 = 0.0\n",
        "x2_22 = 498600.0\n",
        "x2_23 = 0.0\n",
        "x2_24 = 0.0\n",
        "x2_25 = 0.0\n",
        "x2_26 = 0.0\n",
        "x2_27 = 0.0\n",
        "x2_28 = 0.0\n",
        "x2_29 = 0.0\n",
        "x2_3 = 0.0\n",
        "x2_30 = 0.0\n",
        "x2_31 = 0.0\n",
        "x2_32 = 0.0\n",
        "x2_33 = 0.0\n",
        "x2_34 = 637800.0\n",
        "x2_35 = 988800.0\n",
        "x2_36 = 0.0\n",
        "x2_37 = 0.0\n",
        "x2_38 = 0.0\n",
        "x2_39 = 0.0\n",
        "x2_4 = 782700.0\n",
        "x2_40 = 0.0\n",
        "x2_41 = 0.0\n",
        "x2_42 = 0.0\n",
        "x2_43 = 0.0\n",
        "x2_44 = 1039500.0\n",
        "x2_45 = 0.0\n",
        "x2_46 = 0.0\n",
        "x2_47 = 0.0\n",
        "x2_48 = 0.0\n",
        "x2_49 = 0.0\n",
        "x2_5 = 1896600.0\n",
        "x2_50 = 0.0\n",
        "x2_51 = 0.0\n",
        "x2_6 = 1194600.0\n",
        "x2_7 = 0.0\n",
        "x2_8 = 0.0\n",
        "x2_9 = 1942100.0\n",
        "x3_1 = 0.0\n",
        "x3_10 = 821400.0\n",
        "x3_11 = 0.0\n",
        "x3_12 = 508200.0\n",
        "x3_13 = 0.0\n",
        "x3_14 = 0.0\n",
        "x3_15 = 472800.0\n",
        "x3_16 = 371100.0\n",
        "x3_17 = 0.0\n",
        "x3_18 = 743400.0\n",
        "x3_19 = 0.0\n",
        "x3_2 = 0.0\n",
        "x3_20 = 0.0\n",
        "x3_21 = 0.0\n",
        "x3_22 = 0.0\n",
        "x3_23 = 0.0\n",
        "x3_24 = 0.0\n",
        "x3_25 = 0.0\n",
        "x3_26 = 1423200.0\n",
        "x3_27 = 454200.0\n",
        "x3_28 = 1548300.0\n",
        "x3_29 = 0.0\n",
        "x3_3 = 0.0\n",
        "x3_30 = 0.0\n",
        "x3_31 = 979500.0\n",
        "x3_32 = 0.0\n",
        "x3_33 = 0.0\n",
        "x3_34 = 0.0\n",
        "x3_35 = 0.0\n",
        "x3_36 = 0.0\n",
        "x3_37 = 0.0\n",
        "x3_38 = 0.0\n",
        "x3_39 = 0.0\n",
        "x3_4 = 0.0\n",
        "x3_40 = 1484100.0\n",
        "x3_41 = 1168800.0\n",
        "x3_42 = 1414500.0\n",
        "x3_43 = 1524900.0\n",
        "x3_44 = 0.0\n",
        "x3_45 = 856800.0\n",
        "x3_46 = 0.0\n",
        "x3_47 = 0.0\n",
        "x3_48 = 1184400.0\n",
        "x3_49 = 0.0\n",
        "x3_5 = 0.0\n",
        "x3_50 = 1544400.0\n",
        "x3_51 = 0.0\n",
        "x3_6 = 0.0\n",
        "x3_7 = 0.0\n",
        "x3_8 = 0.0\n",
        "x3_9 = 0.0\n",
        "\"\"\""
      ],
      "metadata": {
        "id": "TtJSkmuNriq0"
      },
      "execution_count": 31,
      "outputs": []
    },
    {
      "cell_type": "code",
      "source": [
        "municipios = {1: \"Araraquara\", 2: \"Itu\", 3: \"Jacarei\"}"
      ],
      "metadata": {
        "id": "6p0zIOhJrt-t"
      },
      "execution_count": 32,
      "outputs": []
    },
    {
      "cell_type": "code",
      "source": [
        "codigo_cliente = 2301\n"
      ],
      "metadata": {
        "id": "1hJAXbZtrv8u"
      },
      "execution_count": 33,
      "outputs": []
    },
    {
      "cell_type": "code",
      "source": [
        "rows = []\n",
        "for line in data.splitlines():\n",
        "    match = re.match(r\"x(\\d+)_(\\d+)\\s*=\\s*([\\d.]+)\", line)\n",
        "    if match:\n",
        "        municipio_id, cliente_offset, valor = match.groups()\n",
        "        municipio_id = int(municipio_id)\n",
        "        cliente_offset = int(cliente_offset)\n",
        "        valor = float(valor)\n",
        "\n",
        "        if municipio_id in municipios:\n",
        "            municipio = municipios[municipio_id]\n",
        "            cliente_codigo = codigo_cliente + (cliente_offset - 1)\n",
        "            rows.append([municipio, cliente_codigo, valor])"
      ],
      "metadata": {
        "id": "ySrKpFpvryCW"
      },
      "execution_count": 34,
      "outputs": []
    },
    {
      "cell_type": "code",
      "source": [
        "df = pd.DataFrame(rows, columns=[\"Municipio\", \"CodigoCliente\", \"Valor\"])"
      ],
      "metadata": {
        "id": "p2DkBekQtLt8"
      },
      "execution_count": 35,
      "outputs": []
    },
    {
      "cell_type": "code",
      "source": [
        "print(df)"
      ],
      "metadata": {
        "colab": {
          "base_uri": "https://localhost:8080/"
        },
        "id": "x2MqbOc3tQc2",
        "outputId": "62b9a94c-5fd6-4376-8e72-cb0ac834d4e3"
      },
      "execution_count": 36,
      "outputs": [
        {
          "output_type": "stream",
          "name": "stdout",
          "text": [
            "      Municipio  CodigoCliente      Valor\n",
            "0    Araraquara           2310        0.0\n",
            "1    Araraquara           2311  2973000.0\n",
            "2    Araraquara           2312        0.0\n",
            "3    Araraquara           2313     4500.0\n",
            "4    Araraquara           2314    14400.0\n",
            "..          ...            ...        ...\n",
            "147     Jacarei           2351        0.0\n",
            "148     Jacarei           2306        0.0\n",
            "149     Jacarei           2307        0.0\n",
            "150     Jacarei           2308        0.0\n",
            "151     Jacarei           2309        0.0\n",
            "\n",
            "[152 rows x 3 columns]\n"
          ]
        }
      ]
    },
    {
      "cell_type": "code",
      "source": [
        "rotas = []\n",
        "quantidade = []\n"
      ],
      "metadata": {
        "id": "pIH4cgE_nkK9"
      },
      "execution_count": 37,
      "outputs": []
    },
    {
      "cell_type": "code",
      "source": [
        "\n",
        "for v in transp.variables():\n",
        "    rotas.append(v.name)        # Nome da variável\n",
        "    quantidade.append(v.varValue)  # Valor ótimo da variável\n"
      ],
      "metadata": {
        "id": "kuzg8Qirn5d3"
      },
      "execution_count": null,
      "outputs": []
    },
    {
      "cell_type": "code",
      "source": [
        "print(\"Custo Total = \", value(transp.objective))"
      ],
      "metadata": {
        "colab": {
          "base_uri": "https://localhost:8080/"
        },
        "id": "qVs-cvdxHq4X",
        "outputId": "140dd5d5-d534-48c0-c419-7c25a0ad037c"
      },
      "execution_count": null,
      "outputs": [
        {
          "output_type": "stream",
          "name": "stdout",
          "text": [
            "Custo Total =  4734947.0\n"
          ]
        }
      ]
    },
    {
      "cell_type": "code",
      "source": [
        "df = pd.DataFrame({\n",
        "    \"Rota\": rotas,\n",
        "    \"Quantidade\": quantidade\n",
        "})\n"
      ],
      "metadata": {
        "id": "bh3E9_qCm3uI"
      },
      "execution_count": null,
      "outputs": []
    },
    {
      "cell_type": "code",
      "source": [
        "custo_total = value(transp.objective)\n",
        "print(\"Custo Total = \", custo_total)"
      ],
      "metadata": {
        "colab": {
          "base_uri": "https://localhost:8080/"
        },
        "id": "wMua0_bapDao",
        "outputId": "96dfe08a-3ed5-431c-a158-881439947431"
      },
      "execution_count": null,
      "outputs": [
        {
          "output_type": "stream",
          "name": "stdout",
          "text": [
            "Custo Total =  4734947.0\n"
          ]
        }
      ]
    },
    {
      "cell_type": "code",
      "source": [
        "print(df)\n"
      ],
      "metadata": {
        "colab": {
          "base_uri": "https://localhost:8080/"
        },
        "id": "ySkFGQKzolrP",
        "outputId": "dc0059d4-8836-4dc3-a931-69cf3904c7c3"
      },
      "execution_count": null,
      "outputs": [
        {
          "output_type": "stream",
          "name": "stdout",
          "text": [
            "      Rota  Quantidade\n",
            "0     x1_1    993600.0\n",
            "1    x1_10         0.0\n",
            "2    x1_11   2973000.0\n",
            "3    x1_12         0.0\n",
            "4    x1_13      4500.0\n",
            "..     ...         ...\n",
            "148  x3_51         0.0\n",
            "149   x3_6         0.0\n",
            "150   x3_7         0.0\n",
            "151   x3_8         0.0\n",
            "152   x3_9         0.0\n",
            "\n",
            "[153 rows x 2 columns]\n"
          ]
        }
      ]
    },
    {
      "cell_type": "code",
      "source": [
        "# Criar o DataFrame com as variáveis\n",
        "df = pd.DataFrame({\n",
        "    \"Rota\": rotas,\n",
        "    \"Quantidade\": quantidade\n",
        "})\n",
        "\n",
        "# Adicionar uma nova linha com o custo total\n",
        "df = pd.concat([df, pd.DataFrame({\"Rota\": [\"Custo Total\"], \"Quantidade\": [custo_total]})], ignore_index=True)\n",
        "\n",
        "# Exibir a tabela\n",
        "print(df)\n"
      ],
      "metadata": {
        "colab": {
          "base_uri": "https://localhost:8080/"
        },
        "id": "zfErqHrsp8A1",
        "outputId": "1c77982f-e493-44ab-f368-4832019fb1e4"
      },
      "execution_count": null,
      "outputs": [
        {
          "output_type": "stream",
          "name": "stdout",
          "text": [
            "            Rota  Quantidade\n",
            "0           x1_1    993600.0\n",
            "1          x1_10         0.0\n",
            "2          x1_11   2973000.0\n",
            "3          x1_12         0.0\n",
            "4          x1_13      4500.0\n",
            "..           ...         ...\n",
            "149         x3_6         0.0\n",
            "150         x3_7         0.0\n",
            "151         x3_8         0.0\n",
            "152         x3_9         0.0\n",
            "153  Custo Total   4734947.0\n",
            "\n",
            "[154 rows x 2 columns]\n"
          ]
        }
      ]
    },
    {
      "cell_type": "code",
      "source": [
        "df.to_csv('listas_ajustadas.csv', index=False)"
      ],
      "metadata": {
        "id": "xX5-uamlqGmx"
      },
      "execution_count": 38,
      "outputs": []
    },
    {
      "cell_type": "code",
      "source": [
        "from google.colab import files\n",
        "files.download('listas_ajustadas.csv')"
      ],
      "metadata": {
        "id": "E-Go_PyCqLGl",
        "outputId": "07bffee7-558b-4062-c359-c0efb54c2a18",
        "colab": {
          "base_uri": "https://localhost:8080/",
          "height": 17
        }
      },
      "execution_count": 39,
      "outputs": [
        {
          "output_type": "display_data",
          "data": {
            "text/plain": [
              "<IPython.core.display.Javascript object>"
            ],
            "application/javascript": [
              "\n",
              "    async function download(id, filename, size) {\n",
              "      if (!google.colab.kernel.accessAllowed) {\n",
              "        return;\n",
              "      }\n",
              "      const div = document.createElement('div');\n",
              "      const label = document.createElement('label');\n",
              "      label.textContent = `Downloading \"${filename}\": `;\n",
              "      div.appendChild(label);\n",
              "      const progress = document.createElement('progress');\n",
              "      progress.max = size;\n",
              "      div.appendChild(progress);\n",
              "      document.body.appendChild(div);\n",
              "\n",
              "      const buffers = [];\n",
              "      let downloaded = 0;\n",
              "\n",
              "      const channel = await google.colab.kernel.comms.open(id);\n",
              "      // Send a message to notify the kernel that we're ready.\n",
              "      channel.send({})\n",
              "\n",
              "      for await (const message of channel.messages) {\n",
              "        // Send a message to notify the kernel that we're ready.\n",
              "        channel.send({})\n",
              "        if (message.buffers) {\n",
              "          for (const buffer of message.buffers) {\n",
              "            buffers.push(buffer);\n",
              "            downloaded += buffer.byteLength;\n",
              "            progress.value = downloaded;\n",
              "          }\n",
              "        }\n",
              "      }\n",
              "      const blob = new Blob(buffers, {type: 'application/binary'});\n",
              "      const a = document.createElement('a');\n",
              "      a.href = window.URL.createObjectURL(blob);\n",
              "      a.download = filename;\n",
              "      div.appendChild(a);\n",
              "      a.click();\n",
              "      div.remove();\n",
              "    }\n",
              "  "
            ]
          },
          "metadata": {}
        },
        {
          "output_type": "display_data",
          "data": {
            "text/plain": [
              "<IPython.core.display.Javascript object>"
            ],
            "application/javascript": [
              "download(\"download_6826ebf5-eec8-49c3-b2c3-92b934ce1796\", \"listas_ajustadas.csv\", 2819)"
            ]
          },
          "metadata": {}
        }
      ]
    }
  ]
}